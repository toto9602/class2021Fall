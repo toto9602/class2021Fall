{
  "nbformat": 4,
  "nbformat_minor": 0,
  "metadata": {
    "colab": {
      "name": "Untitled4.ipynb",
      "provenance": [],
      "authorship_tag": "ABX9TyMk4vltlHU/Z9p3WuoXCOPM",
      "include_colab_link": true
    },
    "kernelspec": {
      "name": "python3",
      "display_name": "Python 3"
    },
    "language_info": {
      "name": "python"
    }
  },
  "cells": [
    {
      "cell_type": "markdown",
      "metadata": {
        "id": "view-in-github",
        "colab_type": "text"
      },
      "source": [
        "<a href=\"https://colab.research.google.com/github/toto9602/class2021Fall/blob/main/20211122.ipynb\" target=\"_parent\"><img src=\"https://colab.research.google.com/assets/colab-badge.svg\" alt=\"Open In Colab\"/></a>"
      ]
    },
    {
      "cell_type": "code",
      "metadata": {
        "id": "NY5XltkQHd9U"
      },
      "source": [
        "def phasor_sine(amp, sr, dur, freq, phase):\n",
        "  t = np.arange(1, sr * dur+1)/sr\n",
        "  theta = t * 2*np.pi * freq + phase\n",
        "  s = amp * np.sin(theta)\n",
        "  return s, t, theta"
      ],
      "execution_count": null,
      "outputs": []
    },
    {
      "cell_type": "code",
      "metadata": {
        "id": "RAU8hHMIH4xn"
      },
      "source": [
        "amp = 1; sr = 10000; phase = 0\n",
        "\n",
        "A  = 440.00\n",
        "C  = 523.25\n",
        "F  = 698.46 \n",
        "D  = 587.33\n",
        "E  = 659.25\t \n",
        "Eb = 622.25 \n",
        "F  = 698.46 \n",
        "G  = 783.99\n",
        "Bb = 932.33"
      ],
      "execution_count": null,
      "outputs": []
    },
    {
      "cell_type": "code",
      "metadata": {
        "id": "Tyh2kIbCH9Zd"
      },
      "source": [
        "# The bridge on the river Kwai\n",
        "\n",
        "notes = [F, D, 0, D, Eb, F, D*2, 0, D*2, 0, Bb, 0, \\\n",
        "         F, D, 0, D, Eb, D, F, 0, F, 0, Eb, 0, \\\n",
        "         Eb, C, 0, C, D, Eb, F, D, 0, D, E, D, \\\n",
        "         C, F, D, E, C, G, F]\n",
        "\n",
        "durs = [0.25, 0.75, 0.25, 0.25, 0.25, 0.25, 0.25, 0.25, 0.25, 0.25, 0.75, 0.25, \\\n",
        "        0.25, 0.75, 0.25, 0.25, 0.25, 0.25, 0.25, 0.25, 0.25, 0.25, 0.75, 0.25, \\\n",
        "        0.25, 0.75, 0.25, 0.25, 0.25, 0.25, 0.25, 0.75, 0.25, 0.25, 0.25, 0.25, \\\n",
        "        0.25, 0.5, 0.25, 0.25, 0.5, 0.25, 1.5]"
      ],
      "execution_count": null,
      "outputs": []
    },
    {
      "cell_type": "code",
      "metadata": {
        "id": "DmXoqUr0IAT0"
      },
      "source": [
        "s_all = np.empty(0)\n",
        "\n",
        "for note, dur in zip(notes, durs):\n",
        "  s, t, th= phasor_sine(amp, sr, dur, note, phase)\n",
        "  s_all = np.concatenate((s_all, s))"
      ],
      "execution_count": null,
      "outputs": []
    },
    {
      "cell_type": "code",
      "metadata": {
        "id": "McRYwMj9IByL"
      },
      "source": [
        "ipd.Audio(s_all, rate=sr)"
      ],
      "execution_count": null,
      "outputs": []
    }
  ]
}